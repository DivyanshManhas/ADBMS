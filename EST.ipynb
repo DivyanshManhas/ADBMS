{
 "cells": [
  {
   "cell_type": "markdown",
   "id": "e383ea3f",
   "metadata": {},
   "source": [
    "### Write a Game to guess a number in a computer\n",
    "\n",
    "1) Aim\n",
    "2) Algorithm\n",
    "3) Code\n",
    "4) Output"
   ]
  },
  {
   "cell_type": "code",
   "execution_count": 4,
   "id": "a8165b5f",
   "metadata": {},
   "outputs": [
    {
     "name": "stdout",
     "output_type": "stream",
     "text": [
      "50 is smaller than the number\n",
      "75 is smaller than the number\n",
      "65 is smaller than the number\n",
      "85 is bigger than the number\n",
      "95 is bigger than the number\n",
      "80 is bigger than the number\n",
      "84 is bigger than the number\n",
      "78 is bigger than the number\n",
      "76 is smaller than the number\n",
      "CORRECT !!!\n",
      "It took you 10 guesses and they were [50, 75, 65, 85, 95, 80, 84, 78, 76, 77]\n"
     ]
    }
   ],
   "source": [
    "import random as r\n",
    "\n",
    "to_guess = r.randint(1, 100)\n",
    "guesses = []\n",
    "i = 1\n",
    "\n",
    "while(True):\n",
    "    user = int(input(f\"Enter your {i} guess:\"))\n",
    "    guesses.append(user) # store all the guesses\n",
    "\n",
    "    if user > to_guess:\n",
    "        print(f\"{user} is bigger than the number\")\n",
    "    \n",
    "    elif user < to_guess:\n",
    "        print(f\"{user} is smaller than the number\")\n",
    "    \n",
    "    else:\n",
    "        print(\"CORRECT !!!\")\n",
    "        break # stop the game\n",
    "\n",
    "    i += 1 # count the number of complete guesses\n",
    "\n",
    "print(f\"It took you {i} guesses and they were {guesses}\")"
   ]
  },
  {
   "cell_type": "code",
   "execution_count": null,
   "id": "e4439bd8",
   "metadata": {},
   "outputs": [],
   "source": []
  }
 ],
 "metadata": {
  "kernelspec": {
   "display_name": "Python 3",
   "language": "python",
   "name": "python3"
  },
  "language_info": {
   "codemirror_mode": {
    "name": "ipython",
    "version": 3
   },
   "file_extension": ".py",
   "mimetype": "text/x-python",
   "name": "python",
   "nbconvert_exporter": "python",
   "pygments_lexer": "ipython3",
   "version": "3.12.2"
  }
 },
 "nbformat": 4,
 "nbformat_minor": 5
}
